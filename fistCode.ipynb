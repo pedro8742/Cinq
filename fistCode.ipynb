{
  "nbformat": 4,
  "nbformat_minor": 0,
  "metadata": {
    "colab": {
      "provenance": [],
      "authorship_tag": "ABX9TyMNwCokfQ03OoK/zCSPBEdV",
      "include_colab_link": true
    },
    "kernelspec": {
      "name": "python3",
      "display_name": "Python 3"
    },
    "language_info": {
      "name": "python"
    }
  },
  "cells": [
    {
      "cell_type": "markdown",
      "metadata": {
        "id": "view-in-github",
        "colab_type": "text"
      },
      "source": [
        "<a href=\"https://colab.research.google.com/github/pedro8742/Cinq/blob/master/fistCode.ipynb\" target=\"_parent\"><img src=\"https://colab.research.google.com/assets/colab-badge.svg\" alt=\"Open In Colab\"/></a>"
      ]
    },
    {
      "cell_type": "code",
      "execution_count": 1,
      "metadata": {
        "colab": {
          "base_uri": "https://localhost:8080/"
        },
        "id": "Cbeb9pnVm-XX",
        "outputId": "58feb4f4-61a6-483c-99a3-fb32ecf29b75"
      },
      "outputs": [
        {
          "output_type": "stream",
          "name": "stdout",
          "text": [
            "Óla mundo!!\n"
          ]
        }
      ],
      "source": [
        "print (\"Óla mundo!!\")"
      ]
    },
    {
      "cell_type": "code",
      "source": [
        "x=3\n",
        "y=4+x\n",
        "print(y)"
      ],
      "metadata": {
        "colab": {
          "base_uri": "https://localhost:8080/"
        },
        "id": "YPYyDq-6nkPf",
        "outputId": "95392464-cc85-4195-ccd6-736d059ebec1"
      },
      "execution_count": 5,
      "outputs": [
        {
          "output_type": "stream",
          "name": "stdout",
          "text": [
            "7\n"
          ]
        }
      ]
    },
    {
      "cell_type": "code",
      "source": [
        "idade1 = 13\n",
        "idade2 = 16\n",
        "idade3 = 15\n",
        "\n",
        "print(f\"\")"
      ],
      "metadata": {
        "id": "C_uz1O1jo2SC"
      },
      "execution_count": null,
      "outputs": []
    },
    {
      "cell_type": "code",
      "source": [
        "name = input(\"digite seu nome: \")\n",
        "age = int(input(\"digite sua idade: \"))\n",
        "height = float(input(\"digite sua altura: \"))\n",
        "\n",
        "print(f\"{name} tem {age} anos e {height}m de altura\")"
      ],
      "metadata": {
        "colab": {
          "base_uri": "https://localhost:8080/"
        },
        "id": "qYa_8T-KpCWi",
        "outputId": "ad4ee10f-3f89-413e-a9d7-ae7e16556eed"
      },
      "execution_count": 7,
      "outputs": [
        {
          "output_type": "stream",
          "name": "stdout",
          "text": [
            "digite seu nome: pedro\n",
            "digite sua idade: 31\n",
            "digite sua altura: 170\n",
            "pedro tem 31 anos e 170.0m de altura\n"
          ]
        }
      ]
    },
    {
      "cell_type": "code",
      "source": [
        "age = int(input(\"digite uma idade: \"))\n",
        "if age >= 18:\n",
        "    print(\"Maior de idade\")\n",
        "else:\n",
        "    print(\"Não é maior de idade\")"
      ],
      "metadata": {
        "colab": {
          "base_uri": "https://localhost:8080/"
        },
        "id": "FMsGGBxjqOLy",
        "outputId": "ba34b626-ad55-462b-eea1-e1cb7c8c0529"
      },
      "execution_count": 11,
      "outputs": [
        {
          "output_type": "stream",
          "name": "stdout",
          "text": [
            "digite uma idade: 31\n",
            "Maior de idade\n"
          ]
        }
      ]
    },
    {
      "cell_type": "code",
      "source": [
        "for i in range(2,21,2):\n",
        "  print(i,end = \", \")"
      ],
      "metadata": {
        "colab": {
          "base_uri": "https://localhost:8080/"
        },
        "id": "ko6MpHnXrLEZ",
        "outputId": "e75bbd36-4468-46ab-feed-f35db304a765"
      },
      "execution_count": 26,
      "outputs": [
        {
          "output_type": "stream",
          "name": "stdout",
          "text": [
            "2, 4, 6, 8, 10, 12, 14, 16, 18, 20, "
          ]
        }
      ]
    },
    {
      "cell_type": "code",
      "source": [
        "print(\"Olá Mundo!!\")"
      ],
      "metadata": {
        "id": "HniOr95WsOed"
      },
      "execution_count": null,
      "outputs": []
    },
    {
      "cell_type": "code",
      "source": [
        "dobro = int(input(\"Digite um número: \"))\n",
        "print(f\"O dobro do número é {dobro * 2}\")"
      ],
      "metadata": {
        "colab": {
          "base_uri": "https://localhost:8080/"
        },
        "id": "w7U6P3XfsVY2",
        "outputId": "8a4e4c26-cd2c-436c-d0f8-4d40b075d2f8"
      },
      "execution_count": 33,
      "outputs": [
        {
          "output_type": "stream",
          "name": "stdout",
          "text": [
            "Digite um número: 2\n",
            "O dobro do número é 4\n"
          ]
        }
      ]
    },
    {
      "cell_type": "code",
      "source": [
        "num1 = int(input(\"digite o primeiro número: \"))\n",
        "num2 = int(input(\"digite o segundo número: \"))\n",
        "print(f\"a soma é {num1 + num2}\")"
      ],
      "metadata": {
        "colab": {
          "base_uri": "https://localhost:8080/"
        },
        "id": "jqJkAN7OtyJL",
        "outputId": "7da216ca-cc40-4a27-fe0b-a07d217b3dcb"
      },
      "execution_count": 35,
      "outputs": [
        {
          "output_type": "stream",
          "name": "stdout",
          "text": [
            "digite o primeiro número: 2\n",
            "digite o segundo número: 2\n",
            "a soma é 4\n"
          ]
        }
      ]
    },
    {
      "cell_type": "code",
      "source": [
        "name = input(\"digite seu nome:\")\n",
        "age = int(input(\"digite sua idade: \"))\n",
        "print(f\"Seu nome é {name} e sua idade é {age}\")"
      ],
      "metadata": {
        "colab": {
          "base_uri": "https://localhost:8080/"
        },
        "id": "2DT-dkf-uPTA",
        "outputId": "dbbbbbcf-086a-4d51-b731-c29a56070840"
      },
      "execution_count": 36,
      "outputs": [
        {
          "output_type": "stream",
          "name": "stdout",
          "text": [
            "digite seu nome:pedro\n",
            "digite sua idade: 31\n",
            "Seu nome é pedro e sua idade é 31\n"
          ]
        }
      ]
    },
    {
      "cell_type": "code",
      "source": [
        "for i in range(1,11,2):\n",
        "  print(i)"
      ],
      "metadata": {
        "colab": {
          "base_uri": "https://localhost:8080/"
        },
        "id": "pe9v2sK9unnD",
        "outputId": "24368eb0-4fcd-4160-f1db-c815da4e187d"
      },
      "execution_count": 39,
      "outputs": [
        {
          "output_type": "stream",
          "name": "stdout",
          "text": [
            "1\n",
            "3\n",
            "5\n",
            "7\n",
            "9\n"
          ]
        }
      ]
    },
    {
      "cell_type": "code",
      "source": [
        "num1 = float(input(\"digite um valor: \"))\n",
        "num2 = float(input(\"digite um valor: \"))\n",
        "num3 = float(input(\"digite um valor: \"))\n",
        "media = (num1 + num2 + num3)/3\n",
        "\n",
        "print(f\"a média dos 3 npumeros é {media}\")"
      ],
      "metadata": {
        "colab": {
          "base_uri": "https://localhost:8080/"
        },
        "id": "2j3JtWRqvE2N",
        "outputId": "070f0350-0599-4120-f7c7-96107bf69a35"
      },
      "execution_count": 40,
      "outputs": [
        {
          "output_type": "stream",
          "name": "stdout",
          "text": [
            "digite um valor: 3\n",
            "digite um valor: 3\n",
            "digite um valor: 3\n",
            "a média dos 3 npumeros é 3.0\n"
          ]
        }
      ]
    },
    {
      "cell_type": "code",
      "source": [
        "num = int(input(\"digite o numero que vc qr a tabuada\"))\n",
        "\n",
        "for i in range(1,11):\n",
        "  print(num*i)"
      ],
      "metadata": {
        "colab": {
          "base_uri": "https://localhost:8080/"
        },
        "id": "vcWP4HdNvuia",
        "outputId": "b9a02ad8-51cb-4dde-8853-5631f4a2a3c9"
      },
      "execution_count": 41,
      "outputs": [
        {
          "output_type": "stream",
          "name": "stdout",
          "text": [
            "digite o numero que vc qr a tabuada3\n",
            "3\n",
            "6\n",
            "9\n",
            "12\n",
            "15\n",
            "18\n",
            "21\n",
            "24\n",
            "27\n",
            "30\n"
          ]
        }
      ]
    },
    {
      "cell_type": "code",
      "source": [
        "num = float(input(\"digite um número\"))\n",
        "divisivel = num%3\n",
        "if divisivel==0:\n",
        "  print(\"O número é divisivel por 3\")\n",
        "else:\n",
        "  print(\"O número NÃO é divisivel por 3\")"
      ],
      "metadata": {
        "colab": {
          "base_uri": "https://localhost:8080/"
        },
        "id": "38Ra5bpWwd0P",
        "outputId": "c21d6645-1b7b-448c-9cd3-95b9befea565"
      },
      "execution_count": 43,
      "outputs": [
        {
          "output_type": "stream",
          "name": "stdout",
          "text": [
            "digite um número5\n",
            "O número não é divisivel por 3\n"
          ]
        }
      ]
    },
    {
      "cell_type": "code",
      "source": [
        "temp = float(input(\"igite uma temperatura em graus celsios: \"))\n",
        "converter = temp * 1.8 + 32\n",
        "print(f\"A temperatura em Fahrenheit é: {converter}\")"
      ],
      "metadata": {
        "colab": {
          "base_uri": "https://localhost:8080/"
        },
        "id": "-NiKIe0Rxij5",
        "outputId": "a9922913-17da-43c2-e688-3a63fff0f678"
      },
      "execution_count": 44,
      "outputs": [
        {
          "output_type": "stream",
          "name": "stdout",
          "text": [
            "igite uma temperatura em graus celsios32\n",
            "A temperatura em Fahrenheit é: 89.6\n"
          ]
        }
      ]
    },
    {
      "cell_type": "code",
      "source": [
        "for i in range(1,11):\n",
        "  print(i)"
      ],
      "metadata": {
        "colab": {
          "base_uri": "https://localhost:8080/"
        },
        "id": "YKAgmDe9yYkk",
        "outputId": "8f76d9cb-e923-46b2-d7f3-b458e5c5eb52"
      },
      "execution_count": 45,
      "outputs": [
        {
          "output_type": "stream",
          "name": "stdout",
          "text": [
            "1\n",
            "2\n",
            "3\n",
            "4\n",
            "5\n",
            "6\n",
            "7\n",
            "8\n",
            "9\n",
            "10\n"
          ]
        }
      ]
    }
  ]
}